{
 "cells": [
  {
   "cell_type": "markdown",
   "metadata": {},
   "source": [
    "<h3>BEAM Calibration using BO, Multiarmed Bandits, Model-based BEAM iteration stopping</h3>"
   ]
  },
  {
   "cell_type": "markdown",
   "metadata": {},
   "source": [
    "#### BEAMVILLE Scenario\n",
    "\n",
    "Building blocks:\n",
    "\n",
    "* <b>Bayesian Optimization</b>\n",
    "<img src=\"./img/BO.png\" width=\"400\">\n",
    "TPE is equivalent to BO and better for this case since we run many smaller budgets in the early stage and GPs have cubic complexity. This is also problematic since we are parallelizing the workers.\n",
    "\n",
    "\n",
    "\n",
    "* <b>Successive Halving</b>\n",
    "\n",
    "**Configuration Halving using HB - (Single multidimensional KDE)**\n",
    "\n",
    "Define cheap evaluations: \n",
    "<img src=\"./img/cheap_eval.png\" width=\"400\">\n",
    "\n",
    "Pursue **SH**: https://arxiv.org/pdf/1603.06560.pdf\n",
    "\n",
    "<code>compute S_max from b_max, b_min, &eta;\n",
    "    S_max = number of halvings\n",
    "    Draw initial number of configs and number of iters\n",
    "    run on initial budget &eta;^s * b_max\n",
    "        Finite Horizon SH\n",
    "        sort bad performing configs and reduce to &eta;^-1\n",
    "        End Finite Horizon SH</code>\n",
    "\n",
    "* <b>BEAM Iteration early stop</b>\n",
    "\n",
    "Build linear regression over evolution of <code>mode_choices_per_intercept</code>, extrapolate <code>mode_choices</code> to nth iteration and self abort BEAM by comparing it with pre-defined threshold.\n",
    "\n",
    "***\n",
    "\n",
    "Side note: **KDE**\n",
    "<img src=\"./img/KDEeq.png\" width=\"200\">\n",
    "<img src=\"./img/kde.png\" width=\"400\">\n",
    "Sum individual functions (every function estimation integral is 1), normalize by dividing by <code>no_of_samples</code>\n",
    "\n",
    "***\n",
    "\n",
    "<b>Model</b>:\n",
    "<img src=\"./img/model.png\" width=\"400\">\n"
   ]
  },
  {
   "cell_type": "markdown",
   "metadata": {},
   "source": [
    "#### BEAMVILLE Results\n",
    "\n",
    "\n",
    "* <b>Config exploration</b>\n",
    "\n",
    "<img src=\"./img/L1 distance_1.PNG\" width=\"800\">\n",
    "<b>highest L1 distance</b>\n",
    "\n",
    "<img src=\"./img/L1 distance_2.PNG\" width=\"800\">\n",
    "<b>best config and run time</b>\n",
    "\n",
    "<img src=\"./img/L1 distance_3.PNG\" width=\"800\">\n",
    "<b>Lowest L1 distance after 10 minutes</b>\n",
    "\n",
    "<img src=\"./img/no of runs.PNG\" width=\"500\">\n",
    "<b>number of runs over time</b>\n",
    "\n",
    "\n",
    "\n",
    "\n",
    "\n",
    "\n",
    "\n",
    "\n"
   ]
  },
  {
   "cell_type": "markdown",
   "metadata": {},
   "source": [
    "#### Road ahead\n",
    "\n",
    "* Test on SF-light 1k, compare performance with vanilla BEAM\n",
    "* Modularize the code, abstract simulation specification\n",
    "* Explore model hyperparameters: number of random configs drawn, config descaling param (now 3), bandwidth factor to find correct configs at later runs, budgets (for us number of BEAM iters - to be applied)\n",
    "* BEAM specific Surrogate modeling: http://aad.informatik.uni-freiburg.de/papers/15-AAAI-Surrogates.pdf\n",
    "* successive halving applied to:\n",
    "    * either BEAM surrogate\n",
    "    * or vanilla BEAM conf files restricted by <code>Last_iteration</code> and scale up to full BEAM after certain number of successive halving runs and remove the current <code>BEAM_Iteration_early_stop</code>"
   ]
  }
 ],
 "metadata": {
  "kernelspec": {
   "display_name": "Python 3",
   "language": "python",
   "name": "python3"
  },
  "language_info": {
   "codemirror_mode": {
    "name": "ipython",
    "version": 3
   },
   "file_extension": ".py",
   "mimetype": "text/x-python",
   "name": "python",
   "nbconvert_exporter": "python",
   "pygments_lexer": "ipython3",
   "version": "3.7.6"
  }
 },
 "nbformat": 4,
 "nbformat_minor": 2
}
